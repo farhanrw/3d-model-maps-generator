{
 "cells": [
  {
   "cell_type": "code",
   "execution_count": 1,
   "metadata": {},
   "outputs": [],
   "source": [
    "import numpy as np\n",
    "from tqdm.notebook import tqdm\n",
    "from PIL import Image\n",
    "import glob as glob\n",
    "import os\n",
    "import random\n",
    "import math\n",
    "np.set_printoptions(suppress=True)\n",
    "ONB_EPSILON = 0.01"
   ]
  },
  {
   "cell_type": "code",
   "execution_count": 2,
   "metadata": {},
   "outputs": [],
   "source": [
    "def normalize(v):\n",
    "    norm = np.linalg.norm(v)\n",
    "    if norm == 0:\n",
    "        return v\n",
    "    return v / norm\n",
    "\n",
    "def initFromU(u):\n",
    "    n = np.array([0.0, 1.0, 0.0])\n",
    "    m = np.array([0.0, 0.0, 1.0])\n",
    "\n",
    "    U = normalize(u)\n",
    "    V = np.cross(U, n);\n",
    "    if (np.linalg.norm(V) < ONB_EPSILON):\n",
    "        V = np.cross(U, m)\n",
    "    W = np.cross(U,V)\n",
    "    return U, V, W\n",
    "\n",
    "def getColors(n):\n",
    "    ret = []\n",
    "    r = int(random.random() * 256)\n",
    "    g = int(random.random() * 256)\n",
    "    b = int(random.random() * 256)\n",
    "    step = 256 / n\n",
    "    for i in range(n):\n",
    "        r += step\n",
    "        g += step\n",
    "        b += step\n",
    "        r = int(r) % 256\n",
    "        g = int(g) % 256\n",
    "        b = int(b) % 256\n",
    "        ret.append((r,g,b)) \n",
    "    return np.asarray(ret)\n",
    "\n",
    "def getPhiTheta(filename):\n",
    "    file_name = os.path.basename(filename)\n",
    "    name, ext = os.path.splitext(file_name)\n",
    "    phi, theta = name.split('_')[-3], name.split('_')[-1]\n",
    "    return int(phi), int(theta)\n",
    "\n",
    "def localToWorld2(point, normal):\n",
    "    results = []\n",
    "    for i in range(len(point)):\n",
    "        p = point[i]\n",
    "        n = normal[i]\n",
    "        transformation_matrix = np.zeros((4,4))\n",
    "    \n",
    "        # Initialize fourth column of viewing matrix\n",
    "        transformation_matrix[:, 3] = np.append(p, 1)\n",
    "\n",
    "        #Initialize first three columns of viewing matrix\n",
    "\n",
    "        right, newup, dir = initFromU(n)\n",
    "\n",
    "        transformation_matrix[:, 0] = np.append(right, 0)\n",
    "        transformation_matrix[:, 1] = np.append(newup, 0) # check with (-) sign\n",
    "        transformation_matrix[:, 2] = np.append(dir, 0)\n",
    "\n",
    "        results.append([transformation_matrix, np.linalg.inv(transformation_matrix)])\n",
    "    return np.asarray(results)\n",
    "\n",
    "\n",
    "def localToWorld(point, normal):\n",
    "    transformation_matrix = np.zeros((4,4))\n",
    "    \n",
    "    # Initialize fourth column of viewing matrix\n",
    "    transformation_matrix[:, 3] = np.append(point, 1)\n",
    "    \n",
    "    #Initialize first three columns of viewing matrix\n",
    "    \n",
    "    right, newup, dir = initFromU(normal)\n",
    "    \n",
    "    transformation_matrix[:, 0] = np.append(right, 0)\n",
    "    transformation_matrix[:, 1] = np.append(newup, 0) # check with (-) sign\n",
    "    transformation_matrix[:, 2] = np.append(dir, 0)\n",
    "    \n",
    "    return transformation_matrix, np.linalg.inv(transformation_matrix)\n",
    "\n",
    "def generateShapeCodedImages(filename, delim = ', ', sizex = 256, sizey =256):\n",
    "    content = pd.read_csv(filename, delimiter=delim, engine= 'python').to_numpy()\n",
    "    total_shapes = len(np.unique(content[:,3]))\n",
    "    print (str(total_shapes) + ' shapes detected for this image')\n",
    "    shape_indices = np.unique(content[:,3])\n",
    "    colors = np.random.rand(shape_indices.shape[0],3)*255\n",
    "    m_out = np.zeros((sizex, sizey, total_shapes))\n",
    "    matrix_out = np.zeros((sizex,sizey,3))\n",
    "\n",
    "    for i in tqdm(range(len(content))):\n",
    "        c = content[i]\n",
    "        x, y, sid, pid, px, py, pz, nx, ny, nz = c\n",
    "        m_out[int(x),int(y), np.where(shape_indices==pid)[0][0] ] += 1\n",
    "        #matrix_out[int(y),int(x)] = colors[np.where(shape_indices==sid)[0][0]]\n",
    "    \n",
    "    for x in tqdm(range(sizex)):\n",
    "        for y in range(sizey):\n",
    "            if m_out[x][y].max() > 0.9:\n",
    "                max_shape = np.argmax(m_out[x][y])\n",
    "                matrix_out[int(y),int(x)] = colors[max_shape]\n",
    "            \n",
    "    im = Image.fromarray(np.uint8(matrix_out))\n",
    "    return im\n",
    "\n",
    "## Assumes left hand coordinate system. Phi is from thr up/y axis, clockwise, theta is x/right axis anticlock wise.\n",
    "\n",
    "def getPhi(x, y, z):\n",
    "    value = math.degrees(math.atan2(math.sqrt(x**2+z**2), y))\n",
    "    if value >= 0:\n",
    "        return value \n",
    "    return (value+360)%360\n",
    "def getTheta(x, y, z):\n",
    "    value = math.degrees(math.atan2(z, x)) # x is the standard\n",
    "    if value >= 0:\n",
    "        return value \n",
    "    return (value+360)%360\n",
    "\n",
    "def getRadius():\n",
    "    return 0\n",
    "   \n",
    "def getX2(radius, theta, phi):\n",
    "    return radius * np.cos(theta*0.01745) * np.sin(phi*0.01745)\n",
    "\n",
    "def getZ2(radius, theta, phi):\n",
    "    return radius * np.sin(theta*0.01745) * np.sin(phi*0.01745);\n",
    "\n",
    "def getY2(radius, theta, phi):\n",
    "    return radius * np.cos(phi*0.01745);\n",
    "    \n",
    "def getX(radius, theta, phi):\n",
    "    return radius * math.cos(theta*0.01745) * math.sin(phi*0.01745);\n",
    "\n",
    "def getZ(radius, theta, phi):\n",
    "    return radius * math.sin(theta*0.01745) * math.sin(phi*0.01745);\n",
    "\n",
    "def getY(radius, theta, phi):\n",
    "    return radius * math.cos(phi*0.01745);\n",
    "\n",
    "def phiIndexGenerator(phi_n, phi_c):\n",
    "    #return abs(phi_n-phi_c)\n",
    "    lower = min(phi_n, phi_c)\n",
    "    higher = max(phi_n, phi_c)\n",
    "    basic_diff = abs(phi_n-phi_c)\n",
    "    alter_diff = abs(lower+360-higher)\n",
    "    return min(basic_diff, alter_diff)\n",
    "\n",
    "def thetaIndexGenerator(theta_n, theta_c):\n",
    "    lower = min(theta_n, theta_c)\n",
    "    higher = max(theta_n, theta_c)\n",
    "    basic_diff = abs(theta_n-theta_c)\n",
    "    alter_diff = abs(lower+360-higher)\n",
    "    return min(basic_diff, alter_diff)\n",
    "\n",
    "def slice_checker(slice_img):\n",
    "    r, g, b = slice_img[:,:,0], slice_img[:,:,1], slice_img[:,:,2]\n",
    "    if(r.sum() + g.sum()+b.sum() <0.1):\n",
    "        return [0,0,0]\n",
    "    \n",
    "    return max(0, r.sum()/(r>0.1).sum()), max(0,g.sum()/(g>0.1).sum()), max(0,b.sum()/(b>0.1).sum())\n",
    "    \n",
    "def interpolator(img):\n",
    "    for px in range(1, img.shape[0]-1):\n",
    "        for py in range(1, img.shape[1]-1):\n",
    "            if(img[px][py].all()<0.1):\n",
    "                r,g,b = slice_checker(img[px-1:px+2, py-1:py+2])\n",
    "                img[px][py] = [r,g,b]\n",
    "    return img\n",
    "\n",
    "def getDominantColor(np_image):\n",
    "    image = Image.fromarray(np_image)\n",
    "    image = image.convert('RGB')\n",
    "    frequency = image.getcolors(image.size[0]*image.size[1])\n",
    "    frequency = sorted(frequency, key=lambda x: x[0], reverse=True)\n",
    "    \n",
    "    if (frequency[0][1][0] == 0 and frequency[0][1][1] == 0 and frequency[0][1][2] == 0):\n",
    "        return frequency[1][1][0], frequency[1][1][1], frequency[1][1][2] \n",
    "    return frequency[0][1][0], frequency[0][1][1], frequency[0][1][2] \n",
    "    \n",
    "\n",
    "I_MAX = 18\n",
    "J_MAX = 72\n",
    "def colorReplacer(np_image_, new_color):\n",
    "    for i in range(I_MAX):\n",
    "        for j in range(J_MAX):\n",
    "            if(np_image_[i][j].all() == 0 or np_image_[i][j].sum()<0.5):\n",
    "                np_image_[i][j] = new_color\n",
    "    return np_image_\n",
    "                "
   ]
  },
  {
   "cell_type": "code",
   "execution_count": 3,
   "metadata": {},
   "outputs": [],
   "source": [
    "cams = sorted(glob.glob('cams/0*'), key=os.path.basename)"
   ]
  },
  {
   "cell_type": "code",
   "execution_count": 4,
   "metadata": {},
   "outputs": [],
   "source": [
    "PATH = './'\n",
    "image_files = sorted(glob.glob(PATH + 'images/*.png'))\n",
    "log_files = sorted(glob.glob(PATH + 'data/*.txt'))"
   ]
  },
  {
   "cell_type": "code",
   "execution_count": 10,
   "metadata": {},
   "outputs": [
    {
     "data": {
      "application/vnd.jupyter.widget-view+json": {
       "model_id": "76cf16c349374d678840626493689064",
       "version_major": 2,
       "version_minor": 0
      },
      "text/plain": [
       "HBox(children=(FloatProgress(value=0.0, max=219.0), HTML(value='')))"
      ]
     },
     "metadata": {},
     "output_type": "display_data"
    },
    {
     "name": "stdout",
     "output_type": "stream",
     "text": [
      "\n"
     ]
    }
   ],
   "source": [
    "for l in tqdm(range(len(log_files))):\n",
    "    assert os.path.splitext(os.path.basename(image_files[l]))[0][7:] == os.path.splitext(os.path.basename(log_files[l]))[0][5:]\n",
    "        \n",
    "    loaded_log = np.loadtxt(log_files[l], delimiter = ', ')\n",
    "    phi_c, theta_c = getPhiTheta(log_files[l])\n",
    "    \n",
    "    image_file_name = image_files[l]#PATH+'yellow_more/render' + os.path.splitext(os.path.basename(log_files[l]))[0][4:] + '.png'\n",
    "    loaded_image = np.asarray((Image.open(image_file_name)).convert('RGB'))\n",
    "    \n",
    "    for r in range(len(loaded_log)):\n",
    "        row = loaded_log[r]\n",
    "        x, y, sid, pid, px, py, pz, nx, ny, nz = row\n",
    "        \n",
    "        #phi_n, theta_n = getPhi(nx, ny, nz), getTheta(nx, ny, nz)\n",
    "        #phi, theta = phiIndexGenerator(phi_n, phi_c), thetaIndexGenerator(theta_n, theta_c)\n",
    "        if not pid == 2:        \n",
    "            r, g, b = loaded_image[int(y)][int(x)]\n",
    "            if not (os.path.isdir(PATH + 'reflectance-maps/'  + str(int(pid)))):\n",
    "                os.mkdir(PATH + 'reflectance-maps/'  + str(int(pid)))\n",
    "            with open(PATH + 'reflectance-maps/' + str(int(pid)) + '/' + str(int(pid)) + '_' + str(int(sid)) + '.txt', 'a+') as f:\n",
    "                #temp = np.array([phi_c, theta_c, px, py, pz, r, g, b])\n",
    "                f.write(str(phi_c) + ', ' + str(theta_c) + ', ' + str(px) + ', ' + str(py) + ', ' + str(pz) + ', ' + str(nx) + ', ' + str(ny) + ', ' + str(nz) + ', '  + str(r) + ', ' + str(g) + ', ' + str(b) + '\\n')\n",
    "                #np.savetxt(f, temp, delimiter = ', ', newline = '\\n')"
   ]
  },
  {
   "cell_type": "code",
   "execution_count": 8,
   "metadata": {},
   "outputs": [
    {
     "data": {
      "text/plain": [
       "'./data/data_phi_50_theta_355.txt'"
      ]
     },
     "execution_count": 8,
     "metadata": {},
     "output_type": "execute_result"
    }
   ],
   "source": [
    "log_files[l]"
   ]
  },
  {
   "cell_type": "code",
   "execution_count": 7,
   "metadata": {},
   "outputs": [
    {
     "data": {
      "application/vnd.jupyter.widget-view+json": {
       "model_id": "c0254f5a35e54cc6afdbab26daeb6c04",
       "version_major": 2,
       "version_minor": 0
      },
      "text/plain": [
       "HBox(children=(FloatProgress(value=0.0, max=219.0), HTML(value='')))"
      ]
     },
     "metadata": {},
     "output_type": "display_data"
    },
    {
     "name": "stdout",
     "output_type": "stream",
     "text": [
      "\n"
     ]
    },
    {
     "ename": "ValueError",
     "evalue": "Wrong number of columns at line 1027777",
     "output_type": "error",
     "traceback": [
      "\u001b[0;31m---------------------------------------------------------------------------\u001b[0m",
      "\u001b[0;31mValueError\u001b[0m                                Traceback (most recent call last)",
      "\u001b[0;32m<ipython-input-7-0f145c888d30>\u001b[0m in \u001b[0;36m<module>\u001b[0;34m\u001b[0m\n\u001b[1;32m      2\u001b[0m     \u001b[0;32massert\u001b[0m \u001b[0mos\u001b[0m\u001b[0;34m.\u001b[0m\u001b[0mpath\u001b[0m\u001b[0;34m.\u001b[0m\u001b[0msplitext\u001b[0m\u001b[0;34m(\u001b[0m\u001b[0mos\u001b[0m\u001b[0;34m.\u001b[0m\u001b[0mpath\u001b[0m\u001b[0;34m.\u001b[0m\u001b[0mbasename\u001b[0m\u001b[0;34m(\u001b[0m\u001b[0mimage_files\u001b[0m\u001b[0;34m[\u001b[0m\u001b[0ml\u001b[0m\u001b[0;34m]\u001b[0m\u001b[0;34m)\u001b[0m\u001b[0;34m)\u001b[0m\u001b[0;34m[\u001b[0m\u001b[0;36m0\u001b[0m\u001b[0;34m]\u001b[0m\u001b[0;34m[\u001b[0m\u001b[0;36m7\u001b[0m\u001b[0;34m:\u001b[0m\u001b[0;34m]\u001b[0m \u001b[0;34m==\u001b[0m \u001b[0mos\u001b[0m\u001b[0;34m.\u001b[0m\u001b[0mpath\u001b[0m\u001b[0;34m.\u001b[0m\u001b[0msplitext\u001b[0m\u001b[0;34m(\u001b[0m\u001b[0mos\u001b[0m\u001b[0;34m.\u001b[0m\u001b[0mpath\u001b[0m\u001b[0;34m.\u001b[0m\u001b[0mbasename\u001b[0m\u001b[0;34m(\u001b[0m\u001b[0mlog_files\u001b[0m\u001b[0;34m[\u001b[0m\u001b[0ml\u001b[0m\u001b[0;34m]\u001b[0m\u001b[0;34m)\u001b[0m\u001b[0;34m)\u001b[0m\u001b[0;34m[\u001b[0m\u001b[0;36m0\u001b[0m\u001b[0;34m]\u001b[0m\u001b[0;34m[\u001b[0m\u001b[0;36m5\u001b[0m\u001b[0;34m:\u001b[0m\u001b[0;34m]\u001b[0m\u001b[0;34m\u001b[0m\u001b[0;34m\u001b[0m\u001b[0m\n\u001b[1;32m      3\u001b[0m \u001b[0;34m\u001b[0m\u001b[0m\n\u001b[0;32m----> 4\u001b[0;31m     \u001b[0mloaded_log\u001b[0m \u001b[0;34m=\u001b[0m \u001b[0mnp\u001b[0m\u001b[0;34m.\u001b[0m\u001b[0mloadtxt\u001b[0m\u001b[0;34m(\u001b[0m\u001b[0mlog_files\u001b[0m\u001b[0;34m[\u001b[0m\u001b[0ml\u001b[0m\u001b[0;34m]\u001b[0m\u001b[0;34m,\u001b[0m \u001b[0mdelimiter\u001b[0m \u001b[0;34m=\u001b[0m \u001b[0;34m', '\u001b[0m\u001b[0;34m)\u001b[0m\u001b[0;34m\u001b[0m\u001b[0;34m\u001b[0m\u001b[0m\n\u001b[0m\u001b[1;32m      5\u001b[0m     \u001b[0mphi_c\u001b[0m\u001b[0;34m,\u001b[0m \u001b[0mtheta_c\u001b[0m \u001b[0;34m=\u001b[0m \u001b[0mgetPhiTheta\u001b[0m\u001b[0;34m(\u001b[0m\u001b[0mlog_files\u001b[0m\u001b[0;34m[\u001b[0m\u001b[0ml\u001b[0m\u001b[0;34m]\u001b[0m\u001b[0;34m)\u001b[0m\u001b[0;34m\u001b[0m\u001b[0;34m\u001b[0m\u001b[0m\n\u001b[1;32m      6\u001b[0m \u001b[0;34m\u001b[0m\u001b[0m\n",
      "\u001b[0;32m~/anaconda3/envs/exps/lib/python3.7/site-packages/numpy/lib/npyio.py\u001b[0m in \u001b[0;36mloadtxt\u001b[0;34m(fname, dtype, comments, delimiter, converters, skiprows, usecols, unpack, ndmin, encoding, max_rows)\u001b[0m\n\u001b[1;32m   1137\u001b[0m         \u001b[0;31m# converting the data\u001b[0m\u001b[0;34m\u001b[0m\u001b[0;34m\u001b[0m\u001b[0;34m\u001b[0m\u001b[0m\n\u001b[1;32m   1138\u001b[0m         \u001b[0mX\u001b[0m \u001b[0;34m=\u001b[0m \u001b[0;32mNone\u001b[0m\u001b[0;34m\u001b[0m\u001b[0;34m\u001b[0m\u001b[0m\n\u001b[0;32m-> 1139\u001b[0;31m         \u001b[0;32mfor\u001b[0m \u001b[0mx\u001b[0m \u001b[0;32min\u001b[0m \u001b[0mread_data\u001b[0m\u001b[0;34m(\u001b[0m\u001b[0m_loadtxt_chunksize\u001b[0m\u001b[0;34m)\u001b[0m\u001b[0;34m:\u001b[0m\u001b[0;34m\u001b[0m\u001b[0;34m\u001b[0m\u001b[0m\n\u001b[0m\u001b[1;32m   1140\u001b[0m             \u001b[0;32mif\u001b[0m \u001b[0mX\u001b[0m \u001b[0;32mis\u001b[0m \u001b[0;32mNone\u001b[0m\u001b[0;34m:\u001b[0m\u001b[0;34m\u001b[0m\u001b[0;34m\u001b[0m\u001b[0m\n\u001b[1;32m   1141\u001b[0m                 \u001b[0mX\u001b[0m \u001b[0;34m=\u001b[0m \u001b[0mnp\u001b[0m\u001b[0;34m.\u001b[0m\u001b[0marray\u001b[0m\u001b[0;34m(\u001b[0m\u001b[0mx\u001b[0m\u001b[0;34m,\u001b[0m \u001b[0mdtype\u001b[0m\u001b[0;34m)\u001b[0m\u001b[0;34m\u001b[0m\u001b[0;34m\u001b[0m\u001b[0m\n",
      "\u001b[0;32m~/anaconda3/envs/exps/lib/python3.7/site-packages/numpy/lib/npyio.py\u001b[0m in \u001b[0;36mread_data\u001b[0;34m(chunk_size)\u001b[0m\n\u001b[1;32m   1062\u001b[0m                 \u001b[0mline_num\u001b[0m \u001b[0;34m=\u001b[0m \u001b[0mi\u001b[0m \u001b[0;34m+\u001b[0m \u001b[0mskiprows\u001b[0m \u001b[0;34m+\u001b[0m \u001b[0;36m1\u001b[0m\u001b[0;34m\u001b[0m\u001b[0;34m\u001b[0m\u001b[0m\n\u001b[1;32m   1063\u001b[0m                 raise ValueError(\"Wrong number of columns at line %d\"\n\u001b[0;32m-> 1064\u001b[0;31m                                  % line_num)\n\u001b[0m\u001b[1;32m   1065\u001b[0m \u001b[0;34m\u001b[0m\u001b[0m\n\u001b[1;32m   1066\u001b[0m             \u001b[0;31m# Convert each value according to its column and store\u001b[0m\u001b[0;34m\u001b[0m\u001b[0;34m\u001b[0m\u001b[0;34m\u001b[0m\u001b[0m\n",
      "\u001b[0;31mValueError\u001b[0m: Wrong number of columns at line 1027777"
     ]
    }
   ],
   "source": []
  },
  {
   "cell_type": "markdown",
   "metadata": {},
   "source": [
    "## Reflectance Files"
   ]
  },
  {
   "cell_type": "code",
   "execution_count": 7,
   "metadata": {},
   "outputs": [
    {
     "data": {
      "application/vnd.jupyter.widget-view+json": {
       "model_id": "a12aeaa6a4494c9da3ea93391fd321ca",
       "version_major": 2,
       "version_minor": 0
      },
      "text/plain": [
       "HBox(children=(FloatProgress(value=0.0, max=31.0), HTML(value='')))"
      ]
     },
     "metadata": {},
     "output_type": "display_data"
    },
    {
     "name": "stdout",
     "output_type": "stream",
     "text": [
      "\n"
     ]
    }
   ],
   "source": [
    "PATH = './'\n",
    "image_files = sorted(glob.glob(PATH + 'blended_images/*.jpg'))\n",
    "log_files = sorted(glob.glob(PATH + 'data/*.txt'))\n",
    "#cam_poses = np.loadtxt('cam_poses.txt', delimiter = ', ')\n",
    "image_files[20],log_files[20]\n",
    "\n",
    "for l in tqdm(range(len(image_files))):\n",
    "    assert os.path.splitext(os.path.basename(image_files[l]))[0][-1] == os.path.splitext(os.path.basename(log_files[l]))[0][-1]\n",
    "        \n",
    "    loaded_log = np.loadtxt(log_files[l], delimiter = ', ')\n",
    "    #loaded_log = np.expand_dims(loaded_log, axis = 0)\n",
    "    #phi_c = getPhi(cam_poses[l][0], cam_poses[l][1], cam_poses[l][2]) #getPhiTheta(log_files[l])\n",
    "    #theta_c = getTheta(cam_poses[l][0], cam_poses[l][1], cam_poses[l][2])\n",
    "    cam_x, cam_y, cam_z = all_cams[l][3][0], all_cams[l][3][2], all_cams[l][3][1]\n",
    "    \n",
    "    image_file_name = image_files[l]\n",
    "    loaded_image = np.asarray((Image.open(image_file_name)).convert('RGB'))\n",
    "    \n",
    "    for r in range(len(loaded_log)):\n",
    "        row = loaded_log[r]\n",
    "        x, y, sid, pid, px, py, pz, nx, ny, nz = row\n",
    "        \n",
    "        #phi_n, theta_n = getPhi(nx, ny, nz), getTheta(nx, ny, nz)\n",
    "        #phi, theta = phiIndexGenerator(phi_n, phi_c), thetaIndexGenerator(theta_n, theta_c)\n",
    "                \n",
    "        r, g, b = loaded_image[int(y)][int(x)]\n",
    "        if not (os.path.isdir('./reflectance-maps/'  + str(int(pid)))):\n",
    "            os.mkdir('./reflectance-maps/'  + str(int(pid)))\n",
    "        with open('./reflectance-maps/' + str(int(pid)) + '/' + str(int(pid)) + '_' + str(int(sid)) + '.txt', 'a+') as f:\n",
    "            #temp = np.array([phi_c, theta_c, px, py, pz, r, g, b])\n",
    "            f.write(str(cam_x) + ', ' + str(cam_y) + ', ' + str(cam_z) + ', ' + str(px) + ', ' + str(py) + ', ' + str(pz) + ', ' + str(nx) + ', ' + str(ny) + ', ' + str(nz) + ', '  + str(r) + ', ' + str(g) + ', ' + str(b) + '\\n')"
   ]
  },
  {
   "cell_type": "markdown",
   "metadata": {},
   "source": [
    "## Map generation"
   ]
  },
  {
   "cell_type": "code",
   "execution_count": 14,
   "metadata": {},
   "outputs": [
    {
     "data": {
      "application/vnd.jupyter.widget-view+json": {
       "model_id": "48247b03ac864a2384d430a6177ba8b6",
       "version_major": 2,
       "version_minor": 0
      },
      "text/plain": [
       "HBox(children=(FloatProgress(value=0.0, max=6171.0), HTML(value='')))"
      ]
     },
     "metadata": {},
     "output_type": "display_data"
    },
    {
     "name": "stderr",
     "output_type": "stream",
     "text": [
      "/home/farhan/anaconda3/envs/exps/lib/python3.7/site-packages/ipykernel_launcher.py:28: RuntimeWarning: invalid value encountered in true_divide\n"
     ]
    },
    {
     "name": "stdout",
     "output_type": "stream",
     "text": [
      "\n"
     ]
    }
   ],
   "source": [
    "PATH = './'\n",
    "all_map_dirs = os.listdir(PATH + '/reflectance-maps/')\n",
    "\n",
    "for od in range(0,len(all_map_dirs)):\n",
    "    one_dir = all_map_dirs[od]\n",
    "    all_map_files = sorted(glob.glob(PATH + '/reflectance-maps/' + one_dir + '/*.txt'), key=os.path.getsize)#[-1]\n",
    "    for i in tqdm(range(len(all_map_files))):\n",
    "        map_file = all_map_files[i]\n",
    "        map_image = np.zeros((180, 360, 4), dtype = 'int')\n",
    "        one_map_file = np.loadtxt(map_file, delimiter = ', ', dtype = 'float16')\n",
    "        if (len(one_map_file.shape) < 2):\n",
    "            one_map_file = np.expand_dims(one_map_file, axis=0)\n",
    "        for i in range(len(one_map_file)):\n",
    "            assert type(i)==int\n",
    "            phi, theta, px, py, pz, nx, ny, nz, r, g, b = one_map_file[i]\n",
    "            cam_x, cam_y, cam_z = getX(210, theta, phi), getY(210, theta, phi), getZ(210, theta, phi)\n",
    "            l2w, w2l = localToWorld([px, py, pz], [nx, ny, nz])\n",
    "            cam_local = np.matmul(w2l, [cam_x, cam_y, cam_z, 1])\n",
    "            cam_x, cam_y, cam_z = [cam_local[0], cam_local[1], cam_local[2]]/cam_local[3]\n",
    "            cam_phi, cam_theta = getPhi(cam_x, cam_y, cam_z), getTheta(cam_x, cam_y, cam_z)\n",
    "            #if(r <= 0.0001 and g <= 0.0001 and b <= 0.0001):\n",
    "            #    continue\n",
    "    #         if(map_image[int(phi), int(theta)].all() <= 0.0001):\n",
    "    #         map_image[int(phi/5), int(theta/5)] = r, g, b\n",
    "    #         else:\n",
    "            map_image[int(cam_phi-1), int(cam_theta-1), :3] +=  np.array([r, g, b], dtype='int')\n",
    "            map_image[int(cam_phi-1), int(cam_theta-1), 3] += 1\n",
    "        map_image = map_image[:,:,:3]/np.expand_dims(map_image[:,:,3], axis=2)\n",
    "        reflectance_image = Image.fromarray(np.uint8(map_image))\n",
    "        output_name = os.path.splitext(os.path.basename(map_file))[0]\n",
    "        reflectance_image.save(PATH + 'maps-final/map_' + output_name + '.png')\n",
    "        "
   ]
  },
  {
   "cell_type": "markdown",
   "metadata": {},
   "source": [
    "## Super pixel"
   ]
  },
  {
   "cell_type": "code",
   "execution_count": 16,
   "metadata": {},
   "outputs": [],
   "source": [
    "import cv2\n",
    "\n",
    "image = cv2.imread('/home/farhan/Masters_Thesis/59056e6760bb961de55f3501/blended_images/00000001.jpg')"
   ]
  },
  {
   "cell_type": "code",
   "execution_count": 44,
   "metadata": {},
   "outputs": [
    {
     "name": "stdout",
     "output_type": "stream",
     "text": [
      "[[  0   0   0 ...  12  12  12]\n",
      " [  0   0   0 ...  12  12  12]\n",
      " [  0   0   0 ...  12  12  12]\n",
      " ...\n",
      " [178 178 178 ... 177 177 177]\n",
      " [178 178 178 ... 177 177 177]\n",
      " [178 178 178 ... 177 177 177]]\n"
     ]
    },
    {
     "data": {
      "image/png": "[encoded data removed]",
      "text/plain": [
       "<Figure size 432x288 with 1 Axes>"
      ]
     },
     "metadata": {
      "needs_background": "light"
     },
     "output_type": "display_data"
    },
    {
     "data": {
      "text/plain": [
       "<Figure size 432x288 with 0 Axes>"
      ]
     },
     "metadata": {},
     "output_type": "display_data"
    }
   ],
   "source": [
    "# import the necessary packages\n",
    "from skimage.segmentation import slic\n",
    "from skimage.segmentation import mark_boundaries\n",
    "from skimage.util import img_as_float\n",
    "from skimage import io\n",
    "import matplotlib.pyplot as plt\n",
    "import argparse\n",
    "\n",
    "# load the image and convert it to a floating point data type\n",
    "image = cv2.imread('/home/farhan/Downloads/fire/boo.png')\n",
    "# loop over the number of segments\n",
    "\n",
    "    # apply SLIC and extract (approximately) the supplied number\n",
    "    # of segments\n",
    "segments = slic(image, n_segments = 200, sigma = 5)\n",
    "print(segments)\n",
    "# show the output of SLIC\n",
    "fig = plt.figure(\"Superpixels -- %d segments\" % (100))\n",
    "ax = fig.add_subplot(1, 1, 1)\n",
    "ax.imshow(mark_boundaries(cv2.cvtColor(image, cv2.COLOR_BGR2RGB), segments))\n",
    "plt.axis(\"off\")\n",
    "\n",
    "\n",
    "plt.show()\n",
    "plt.savefig('foo.png')\n"
   ]
  },
  {
   "cell_type": "code",
   "execution_count": 25,
   "metadata": {},
   "outputs": [],
   "source": [
    "np.savetxt('super.txt', segments, fmt = '%d', delimiter = ', ')"
   ]
  },
  {
   "cell_type": "code",
   "execution_count": 92,
   "metadata": {},
   "outputs": [
    {
     "data": {
      "text/plain": [
       "175"
      ]
     },
     "execution_count": 92,
     "metadata": {},
     "output_type": "execute_result"
    }
   ],
   "source": [
    "segments.max()"
   ]
  },
  {
   "cell_type": "code",
   "execution_count": 30,
   "metadata": {},
   "outputs": [
    {
     "data": {
      "text/plain": [
       "(array([519, 519, 519, ..., 575, 575, 575]),\n",
       " array([ 0,  1,  2, ..., 54, 55, 56]))"
      ]
     },
     "execution_count": 30,
     "metadata": {},
     "output_type": "execute_result"
    }
   ],
   "source": [
    "np.where(segments==169)"
   ]
  },
  {
   "cell_type": "markdown",
   "metadata": {},
   "source": [
    "## Reading the log file"
   ]
  },
  {
   "cell_type": "code",
   "execution_count": 99,
   "metadata": {},
   "outputs": [
    {
     "data": {
      "text/plain": [
       "array([172, 172, 173, ..., 240, 241, 241])"
      ]
     },
     "execution_count": 99,
     "metadata": {},
     "output_type": "execute_result"
    }
   ],
   "source": [
    "segment_id = segments[200, 200]\n",
    "#segment_id\n",
    "sx"
   ]
  },
  {
   "cell_type": "code",
   "execution_count": 101,
   "metadata": {},
   "outputs": [
    {
     "name": "stderr",
     "output_type": "stream",
     "text": [
      "/home/farhan/anaconda3/envs/exps/lib/python3.7/site-packages/ipykernel_launcher.py:1: DeprecationWarning: elementwise comparison failed; this will raise an error in the future.\n",
      "  \"\"\"Entry point for launching an IPython kernel.\n"
     ]
    }
   ],
   "source": [
    "filter_one = log_file[np.where(log_file[:,0]==sx)]"
   ]
  },
  {
   "cell_type": "code",
   "execution_count": 96,
   "metadata": {},
   "outputs": [
    {
     "name": "stdout",
     "output_type": "stream",
     "text": [
      "0\n"
     ]
    },
    {
     "name": "stderr",
     "output_type": "stream",
     "text": [
      "/home/farhan/anaconda3/envs/exps/lib/python3.7/site-packages/ipykernel_launcher.py:1: DeprecationWarning: elementwise comparison failed; this will raise an error in the future.\n",
      "  \"\"\"Entry point for launching an IPython kernel.\n",
      "/home/farhan/anaconda3/envs/exps/lib/python3.7/site-packages/ipykernel_launcher.py:2: DeprecationWarning: elementwise comparison failed; this will raise an error in the future.\n",
      "  \n"
     ]
    }
   ],
   "source": [
    "filter_one = log_file[np.where(log_file[:,0]==sx)]\n",
    "filter_one = filter_one[np.where(filter_one[:,1]==sy)]\n",
    "print(len(filter_one))"
   ]
  },
  {
   "cell_type": "code",
   "execution_count": 147,
   "metadata": {},
   "outputs": [
    {
     "data": {
      "application/vnd.jupyter.widget-view+json": {
       "model_id": "51b8acbb724e4d128731d78df5b057ec",
       "version_major": 2,
       "version_minor": 0
      },
      "text/plain": [
       "HBox(children=(FloatProgress(value=0.0, max=3648.0), HTML(value='')))"
      ]
     },
     "metadata": {},
     "output_type": "display_data"
    },
    {
     "data": {
      "application/vnd.jupyter.widget-view+json": {
       "model_id": "502de7809a604945ad101eb4d96d4a78",
       "version_major": 2,
       "version_minor": 0
      },
      "text/plain": [
       "HBox(children=(FloatProgress(value=0.0, max=437635.0), HTML(value='')))"
      ]
     },
     "metadata": {},
     "output_type": "display_data"
    },
    {
     "name": "stderr",
     "output_type": "stream",
     "text": [
      "/home/farhan/anaconda3/envs/exps/lib/python3.7/site-packages/ipykernel_launcher.py:105: RuntimeWarning: overflow encountered in double_scalars\n",
      "/home/farhan/anaconda3/envs/exps/lib/python3.7/site-packages/ipykernel_launcher.py:25: RuntimeWarning: overflow encountered in matmul\n",
      "/home/farhan/anaconda3/envs/exps/lib/python3.7/site-packages/ipykernel_launcher.py:25: RuntimeWarning: invalid value encountered in matmul\n"
     ]
    },
    {
     "name": "stdout",
     "output_type": "stream",
     "text": [
      "\n"
     ]
    },
    {
     "name": "stderr",
     "output_type": "stream",
     "text": [
      "/home/farhan/anaconda3/envs/exps/lib/python3.7/site-packages/ipykernel_launcher.py:36: RuntimeWarning: invalid value encountered in true_divide\n"
     ]
    },
    {
     "data": {
      "application/vnd.jupyter.widget-view+json": {
       "model_id": "6eef0813754c4f2d88f6e1de236db5e8",
       "version_major": 2,
       "version_minor": 0
      },
      "text/plain": [
       "HBox(children=(FloatProgress(value=0.0, max=304421.0), HTML(value='')))"
      ]
     },
     "metadata": {},
     "output_type": "display_data"
    },
    {
     "name": "stdout",
     "output_type": "stream",
     "text": [
      "\n"
     ]
    },
    {
     "data": {
      "application/vnd.jupyter.widget-view+json": {
       "model_id": "df891787297146cdabda8f081ac94e37",
       "version_major": 2,
       "version_minor": 0
      },
      "text/plain": [
       "HBox(children=(FloatProgress(value=0.0, max=634181.0), HTML(value='')))"
      ]
     },
     "metadata": {},
     "output_type": "display_data"
    },
    {
     "name": "stdout",
     "output_type": "stream",
     "text": [
      "\n",
      "\n"
     ]
    },
    {
     "ename": "KeyboardInterrupt",
     "evalue": "",
     "output_type": "error",
     "traceback": [
      "\u001b[0;31m---------------------------------------------------------------------------\u001b[0m",
      "\u001b[0;31mKeyboardInterrupt\u001b[0m                         Traceback (most recent call last)",
      "\u001b[0;32m<ipython-input-147-6d23926f39f9>\u001b[0m in \u001b[0;36m<module>\u001b[0;34m\u001b[0m\n\u001b[1;32m     11\u001b[0m     \u001b[0msegment_id\u001b[0m \u001b[0;34m=\u001b[0m \u001b[0msegments\u001b[0m\u001b[0;34m[\u001b[0m\u001b[0mint\u001b[0m\u001b[0;34m(\u001b[0m\u001b[0mall_rows\u001b[0m\u001b[0;34m[\u001b[0m\u001b[0;36m0\u001b[0m\u001b[0;34m]\u001b[0m\u001b[0;34m[\u001b[0m\u001b[0;36m0\u001b[0m\u001b[0;34m]\u001b[0m\u001b[0;34m)\u001b[0m\u001b[0;34m,\u001b[0m \u001b[0mint\u001b[0m\u001b[0;34m(\u001b[0m\u001b[0mall_rows\u001b[0m\u001b[0;34m[\u001b[0m\u001b[0;36m0\u001b[0m\u001b[0;34m]\u001b[0m\u001b[0;34m[\u001b[0m\u001b[0;36m1\u001b[0m\u001b[0;34m]\u001b[0m\u001b[0;34m)\u001b[0m\u001b[0;34m]\u001b[0m\u001b[0;34m\u001b[0m\u001b[0;34m\u001b[0m\u001b[0m\n\u001b[1;32m     12\u001b[0m     \u001b[0msx\u001b[0m\u001b[0;34m,\u001b[0m \u001b[0msy\u001b[0m \u001b[0;34m=\u001b[0m \u001b[0mnp\u001b[0m\u001b[0;34m.\u001b[0m\u001b[0mwhere\u001b[0m\u001b[0;34m(\u001b[0m\u001b[0msegments\u001b[0m\u001b[0;34m==\u001b[0m\u001b[0msegment_id\u001b[0m\u001b[0;34m)\u001b[0m\u001b[0;34m\u001b[0m\u001b[0;34m\u001b[0m\u001b[0m\n\u001b[0;32m---> 13\u001b[0;31m     \u001b[0mfilter_one\u001b[0m \u001b[0;34m=\u001b[0m \u001b[0;34m[\u001b[0m\u001b[0mitem\u001b[0m \u001b[0;32mfor\u001b[0m \u001b[0mitem\u001b[0m \u001b[0;32min\u001b[0m \u001b[0mlog_file\u001b[0m \u001b[0;32mif\u001b[0m \u001b[0mitem\u001b[0m\u001b[0;34m[\u001b[0m\u001b[0;36m0\u001b[0m\u001b[0;34m]\u001b[0m \u001b[0;32min\u001b[0m \u001b[0msx\u001b[0m\u001b[0;34m]\u001b[0m\u001b[0;34m\u001b[0m\u001b[0;34m\u001b[0m\u001b[0m\n\u001b[0m\u001b[1;32m     14\u001b[0m     \u001b[0mfilter_one\u001b[0m \u001b[0;34m=\u001b[0m \u001b[0;34m[\u001b[0m\u001b[0mitem\u001b[0m \u001b[0;32mfor\u001b[0m \u001b[0mitem\u001b[0m \u001b[0;32min\u001b[0m \u001b[0mfilter_one\u001b[0m \u001b[0;32mif\u001b[0m \u001b[0mitem\u001b[0m\u001b[0;34m[\u001b[0m\u001b[0;36m1\u001b[0m\u001b[0;34m]\u001b[0m \u001b[0;32min\u001b[0m \u001b[0msy\u001b[0m\u001b[0;34m]\u001b[0m\u001b[0;34m\u001b[0m\u001b[0;34m\u001b[0m\u001b[0m\n\u001b[1;32m     15\u001b[0m \u001b[0;34m\u001b[0m\u001b[0m\n",
      "\u001b[0;32m<ipython-input-147-6d23926f39f9>\u001b[0m in \u001b[0;36m<listcomp>\u001b[0;34m(.0)\u001b[0m\n\u001b[1;32m     11\u001b[0m     \u001b[0msegment_id\u001b[0m \u001b[0;34m=\u001b[0m \u001b[0msegments\u001b[0m\u001b[0;34m[\u001b[0m\u001b[0mint\u001b[0m\u001b[0;34m(\u001b[0m\u001b[0mall_rows\u001b[0m\u001b[0;34m[\u001b[0m\u001b[0;36m0\u001b[0m\u001b[0;34m]\u001b[0m\u001b[0;34m[\u001b[0m\u001b[0;36m0\u001b[0m\u001b[0;34m]\u001b[0m\u001b[0;34m)\u001b[0m\u001b[0;34m,\u001b[0m \u001b[0mint\u001b[0m\u001b[0;34m(\u001b[0m\u001b[0mall_rows\u001b[0m\u001b[0;34m[\u001b[0m\u001b[0;36m0\u001b[0m\u001b[0;34m]\u001b[0m\u001b[0;34m[\u001b[0m\u001b[0;36m1\u001b[0m\u001b[0;34m]\u001b[0m\u001b[0;34m)\u001b[0m\u001b[0;34m]\u001b[0m\u001b[0;34m\u001b[0m\u001b[0;34m\u001b[0m\u001b[0m\n\u001b[1;32m     12\u001b[0m     \u001b[0msx\u001b[0m\u001b[0;34m,\u001b[0m \u001b[0msy\u001b[0m \u001b[0;34m=\u001b[0m \u001b[0mnp\u001b[0m\u001b[0;34m.\u001b[0m\u001b[0mwhere\u001b[0m\u001b[0;34m(\u001b[0m\u001b[0msegments\u001b[0m\u001b[0;34m==\u001b[0m\u001b[0msegment_id\u001b[0m\u001b[0;34m)\u001b[0m\u001b[0;34m\u001b[0m\u001b[0;34m\u001b[0m\u001b[0m\n\u001b[0;32m---> 13\u001b[0;31m     \u001b[0mfilter_one\u001b[0m \u001b[0;34m=\u001b[0m \u001b[0;34m[\u001b[0m\u001b[0mitem\u001b[0m \u001b[0;32mfor\u001b[0m \u001b[0mitem\u001b[0m \u001b[0;32min\u001b[0m \u001b[0mlog_file\u001b[0m \u001b[0;32mif\u001b[0m \u001b[0mitem\u001b[0m\u001b[0;34m[\u001b[0m\u001b[0;36m0\u001b[0m\u001b[0;34m]\u001b[0m \u001b[0;32min\u001b[0m \u001b[0msx\u001b[0m\u001b[0;34m]\u001b[0m\u001b[0;34m\u001b[0m\u001b[0;34m\u001b[0m\u001b[0m\n\u001b[0m\u001b[1;32m     14\u001b[0m     \u001b[0mfilter_one\u001b[0m \u001b[0;34m=\u001b[0m \u001b[0;34m[\u001b[0m\u001b[0mitem\u001b[0m \u001b[0;32mfor\u001b[0m \u001b[0mitem\u001b[0m \u001b[0;32min\u001b[0m \u001b[0mfilter_one\u001b[0m \u001b[0;32mif\u001b[0m \u001b[0mitem\u001b[0m\u001b[0;34m[\u001b[0m\u001b[0;36m1\u001b[0m\u001b[0;34m]\u001b[0m \u001b[0;32min\u001b[0m \u001b[0msy\u001b[0m\u001b[0;34m]\u001b[0m\u001b[0;34m\u001b[0m\u001b[0;34m\u001b[0m\u001b[0m\n\u001b[1;32m     15\u001b[0m \u001b[0;34m\u001b[0m\u001b[0m\n",
      "\u001b[0;31mKeyboardInterrupt\u001b[0m: "
     ]
    }
   ],
   "source": [
    "import math\n",
    "\n",
    "log_file = np.loadtxt('data_1.txt', delimiter = ', ')\n",
    "image_file = np.array(Image.open('1.jpg'))\n",
    "cam_x, cam_y, cam_z = all_cams[0][3][0], all_cams[0][3][2], all_cams[0][3][1]\n",
    "new_array = [row[2] for row in log_file]\n",
    "uniques = np.unique(new_array,axis=0)\n",
    "\n",
    "for i in tqdm(range(len(uniques))):\n",
    "    all_rows = [item for item in log_file if item[2]==uniques[i]]\n",
    "    segment_id = segments[int(all_rows[0][0]), int(all_rows[0][1])]\n",
    "    sx, sy = np.where(segments==segment_id)\n",
    "    filter_one = [item for item in log_file if item[0] in sx]\n",
    "    filter_one = [item for item in filter_one if item[1] in sy]\n",
    "    \n",
    "    map_image = np.zeros((36, 72, 4), dtype = 'int64')\n",
    "    \n",
    "    for j in tqdm(range(len(filter_one))):\n",
    "        assert type(j)==int\n",
    "        ux, uy, sid, pid, px, py, pz, nx, ny, nz = filter_one[j]\n",
    "        ux, uy = int(ux), int(uy)\n",
    "        r,g,b = image_file[uy][ux]\n",
    "        \n",
    "        l2w, w2l = localToWorld([px, py, pz], [nx, ny, nz])\n",
    "        cam_local = np.matmul(w2l, [cam_x, cam_y, cam_z, 1])\n",
    "        cam_x, cam_y, cam_z = [cam_local[0], cam_local[1], cam_local[2]]/cam_local[3]\n",
    "        cam_phi, cam_theta = getPhi(cam_x, cam_y, cam_z), getTheta(cam_x, cam_y, cam_z)\n",
    "        if(math.isnan(cam_phi)):\n",
    "            cam_phi = 0\n",
    "        if(math.isnan(cam_theta)):\n",
    "            cam_theta = 0   \n",
    "        map_image[int(cam_phi-1)//5, int(cam_theta-1)//5, :3] +=  np.array([r, g, b], dtype='int')\n",
    "        map_image[int(cam_phi-1)//5, int(cam_theta-1)//5, 3] += 1\n",
    "        #print(map_image.max())\n",
    "        \n",
    "    map_image = map_image[:,:,:3]/np.expand_dims(map_image[:,:,3], axis=2)\n",
    "    reflectance_image = Image.fromarray(np.uint8(map_image))\n",
    "    reflectance_image.save('maps/map_' + str(sid) + '.png')"
   ]
  },
  {
   "cell_type": "code",
   "execution_count": 139,
   "metadata": {},
   "outputs": [
    {
     "data": {
      "text/plain": [
       "array([  39.,   96.,   98., ..., 9990., 9991., 9993.])"
      ]
     },
     "execution_count": 139,
     "metadata": {},
     "output_type": "execute_result"
    }
   ],
   "source": [
    "new_array = [row[2] for row in log_file]\n",
    "uniques = np.unique(new_array,axis=0)\n",
    "uniques"
   ]
  },
  {
   "cell_type": "code",
   "execution_count": 121,
   "metadata": {},
   "outputs": [
    {
     "ename": "IndexError",
     "evalue": "index 338919 is out of bounds for axis 1 with size 10",
     "output_type": "error",
     "traceback": [
      "\u001b[0;31m---------------------------------------------------------------------------\u001b[0m",
      "\u001b[0;31mIndexError\u001b[0m                                Traceback (most recent call last)",
      "\u001b[0;32m<ipython-input-121-65be4f743d94>\u001b[0m in \u001b[0;36m<module>\u001b[0;34m\u001b[0m\n\u001b[0;32m----> 1\u001b[0;31m \u001b[0mlog_file\u001b[0m\u001b[0;34m[\u001b[0m\u001b[0mnp\u001b[0m\u001b[0;34m.\u001b[0m\u001b[0mwhere\u001b[0m\u001b[0;34m(\u001b[0m\u001b[0mlog_file\u001b[0m\u001b[0;34m[\u001b[0m\u001b[0;34m:\u001b[0m\u001b[0;34m,\u001b[0m\u001b[0;36m0\u001b[0m\u001b[0;34m]\u001b[0m\u001b[0;34m==\u001b[0m\u001b[0mnp\u001b[0m\u001b[0;34m.\u001b[0m\u001b[0marray\u001b[0m\u001b[0;34m(\u001b[0m\u001b[0;34m[\u001b[0m\u001b[0;34m[\u001b[0m\u001b[0;36m12\u001b[0m\u001b[0;34m]\u001b[0m\u001b[0;34m,\u001b[0m\u001b[0;34m[\u001b[0m\u001b[0;36m12\u001b[0m\u001b[0;34m]\u001b[0m\u001b[0;34m]\u001b[0m\u001b[0;34m)\u001b[0m\u001b[0;34m)\u001b[0m\u001b[0;34m]\u001b[0m\u001b[0;34m\u001b[0m\u001b[0;34m\u001b[0m\u001b[0m\n\u001b[0m",
      "\u001b[0;31mIndexError\u001b[0m: index 338919 is out of bounds for axis 1 with size 10"
     ]
    }
   ],
   "source": [
    "log_file[np.where(log_file[:,0]==np.array(([112],[120])))]"
   ]
  },
  {
   "cell_type": "code",
   "execution_count": 106,
   "metadata": {},
   "outputs": [
    {
     "data": {
      "text/plain": [
       "array([112., 144., 192., ..., 175., 175., 175.])"
      ]
     },
     "execution_count": 106,
     "metadata": {},
     "output_type": "execute_result"
    }
   ],
   "source": [
    "log_file[:,0]"
   ]
  },
  {
   "cell_type": "code",
   "execution_count": 108,
   "metadata": {},
   "outputs": [
    {
     "name": "stdout",
     "output_type": "stream",
     "text": [
      "[351 352 353 ... 478 479 479] [746 746 745 ... 740 739 740]\n"
     ]
    },
    {
     "name": "stderr",
     "output_type": "stream",
     "text": [
      "/home/farhan/anaconda3/envs/exps/lib/python3.7/site-packages/ipykernel_launcher.py:3: DeprecationWarning: elementwise comparison failed; this will raise an error in the future.\n",
      "  This is separate from the ipykernel package so we can avoid doing imports until\n",
      "/home/farhan/anaconda3/envs/exps/lib/python3.7/site-packages/ipykernel_launcher.py:4: DeprecationWarning: elementwise comparison failed; this will raise an error in the future.\n",
      "  after removing the cwd from sys.path.\n"
     ]
    }
   ],
   "source": [
    "sx, sy = np.where(segments==120)\n",
    "print(sx, sy)\n",
    "filter_one = log_file[np.where(log_file[:,0]==sx)]\n",
    "filter_one = filter_one[np.where(filter_one[:,1]==sy)]"
   ]
  },
  {
   "cell_type": "code",
   "execution_count": 109,
   "metadata": {},
   "outputs": [
    {
     "name": "stdout",
     "output_type": "stream",
     "text": [
      "[]\n"
     ]
    }
   ],
   "source": [
    "print(filter_one)"
   ]
  },
  {
   "cell_type": "code",
   "execution_count": 110,
   "metadata": {},
   "outputs": [
    {
     "name": "stderr",
     "output_type": "stream",
     "text": [
      "/home/farhan/anaconda3/envs/exps/lib/python3.7/site-packages/ipykernel_launcher.py:1: DeprecationWarning: elementwise comparison failed; this will raise an error in the future.\n",
      "  \"\"\"Entry point for launching an IPython kernel.\n"
     ]
    },
    {
     "data": {
      "text/plain": [
       "(array([], dtype=int64),)"
      ]
     },
     "execution_count": 110,
     "metadata": {},
     "output_type": "execute_result"
    }
   ],
   "source": [
    "np.where(log_file[:,0]==sx)"
   ]
  },
  {
   "cell_type": "code",
   "execution_count": 113,
   "metadata": {},
   "outputs": [
    {
     "data": {
      "text/plain": [
       "(array([      0,      13,      15, ..., 1795796, 1795810, 1797487]),)"
      ]
     },
     "execution_count": 113,
     "metadata": {},
     "output_type": "execute_result"
    }
   ],
   "source": [
    "np.where(log_file[:,0]==112)"
   ]
  },
  {
   "cell_type": "code",
   "execution_count": null,
   "metadata": {},
   "outputs": [],
   "source": []
  }
 ],
 "metadata": {
  "kernelspec": {
   "display_name": "Python 3",
   "language": "python",
   "name": "python3"
  },
  "language_info": {
   "codemirror_mode": {
    "name": "ipython",
    "version": 3
   },
   "file_extension": ".py",
   "mimetype": "text/x-python",
   "name": "python",
   "nbconvert_exporter": "python",
   "pygments_lexer": "ipython3",
   "version": "3.7.7"
  }
 },
 "nbformat": 4,
 "nbformat_minor": 4
}
